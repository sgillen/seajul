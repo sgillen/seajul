{
 "cells": [
  {
   "cell_type": "code",
   "execution_count": 1,
   "metadata": {},
   "outputs": [
    {
     "data": {
      "text/plain": [
       "8-element Array{Int64,1}:\n",
       " 2\n",
       " 3\n",
       " 4\n",
       " 5\n",
       " 6\n",
       " 7\n",
       " 8\n",
       " 9"
      ]
     },
     "execution_count": 1,
     "metadata": {},
     "output_type": "execute_result"
    }
   ],
   "source": [
    "num_trials = 8\n",
    "using SharedArrays\n",
    "using Distributed\n",
    "addprocs(num_trials)\n",
    "\n",
    "@everywhere using PyCall\n",
    "@everywhere using Random"
   ]
  },
  {
   "cell_type": "code",
   "execution_count": null,
   "metadata": {},
   "outputs": [
    {
     "name": "stderr",
     "output_type": "stream",
     "text": [
      "WARNING: replacing module SJ.\n"
     ]
    }
   ],
   "source": [
    "@everywhere include(\"seajul.jl\")\n",
    "@time begin\n",
    "\n",
    "epochs = 1000\n",
    "T = Float64\n",
    "\n",
    "env_name = \"HalfCheetah-v2\"\n",
    "gym = pyimport(\"gym\")\n",
    "pyimport(\"pybullet_envs\")\n",
    "env = gym.make(env_name)\n",
    "in_size = env.observation_space.shape[1]\n",
    "out_size = env.action_space.shape[1]\n",
    " \n",
    "\n",
    "Wa = SharedArray{T}(num_trials, out_size, in_size)\n",
    "ra = SharedArray{T}(num_trials, epochs)\n",
    "\n",
    "@sync @distributed for i in 1:num_trials\n",
    "    seed = rand(1:2^16)\n",
    "    Random.seed!(seed)\n",
    "    gym = pyimport(\"gym\")\n",
    "    pyimport(\"pybullet_envs\")\n",
    "    env = gym.make(env_name)\n",
    "\n",
    "    W = zeros(T, out_size, in_size)\n",
    "    W,rews,μ,sig = SJ.ars_v2t!(env,W,epochs,T=T)\n",
    "    Wa[i,:,:] = W \n",
    "    ra[i,:] = rews\n",
    "\n",
    "end\n",
    "end"
   ]
  },
  {
   "cell_type": "code",
   "execution_count": null,
   "metadata": {},
   "outputs": [],
   "source": [
    "using Plots\n",
    "\n",
    "plot()\n",
    "for i in 1:num_trials\n",
    "    plot!(ra[i,:])\n",
    "end\n",
    "plot!()"
   ]
  },
  {
   "cell_type": "code",
   "execution_count": 8,
   "metadata": {},
   "outputs": [
    {
     "data": {
      "text/plain": [
       "do_rollout_eval (generic function with 1 method)"
      ]
     },
     "execution_count": 8,
     "metadata": {},
     "output_type": "execute_result"
    }
   ],
   "source": [
    "function do_rollout_eval(env::PyObject, W)\n",
    "    x = env.reset()\n",
    "    done = false\n",
    "    reward = 0.0\n",
    "\n",
    "    x_hist = zeros(env.observation_space.shape[1],env._max_episode_steps)\n",
    "    i = 1\n",
    "\n",
    "    act_low = convert(Array{Float64,1}, env.action_space.low)\n",
    "    act_high = convert(Array{Float64,1}, env.action_space.high)\n",
    "\n",
    "    while !done\n",
    "        x_hist[:,i] = copy(x); i+=1\n",
    "        print(W*x)\n",
    "        u = clamp(W*x, act_low, act_high)\n",
    "        x, r, done, _ = env.step(u)\n",
    "        reward += r\n",
    "    end\n",
    "    #println(vec(mean(x_hist[:,1:i-1],dims=2)))\n",
    "    return reward::Float64, x_hist\n",
    "end\n"
   ]
  },
  {
   "cell_type": "code",
   "execution_count": 9,
   "metadata": {},
   "outputs": [
    {
     "ename": "MethodError",
     "evalue": "MethodError: no method matching *(::Tuple{Array{Float64,1},Array{Float64,2}}, ::Array{Float32,1})\nClosest candidates are:\n  *(::Any, ::Any, !Matched::Any, !Matched::Any...) at operators.jl:529\n  *(!Matched::PyObject, ::Any) at /home/sgillen/.julia/packages/PyCall/zqDXB/src/pyoperators.jl:13\n  *(!Matched::LinearAlgebra.Adjoint{#s662,#s661} where #s661<:Union{DenseArray{T,2}, Base.ReinterpretArray{T,2,S,A} where S where A<:Union{SubArray{T,N,A,I,true} where I<:Union{Tuple{Vararg{Real,N} where N}, Tuple{AbstractUnitRange,Vararg{Any,N} where N}} where A<:DenseArray where N where T, DenseArray}, Base.ReshapedArray{T,2,A,MI} where MI<:Tuple{Vararg{Base.MultiplicativeInverses.SignedMultiplicativeInverse{Int64},N} where N} where A<:Union{Base.ReinterpretArray{T,N,S,A} where S where A<:Union{SubArray{T,N,A,I,true} where I<:Union{Tuple{Vararg{Real,N} where N}, Tuple{AbstractUnitRange,Vararg{Any,N} where N}} where A<:DenseArray where N where T, DenseArray} where N where T, SubArray{T,N,A,I,true} where I<:Union{Tuple{Vararg{Real,N} where N}, Tuple{AbstractUnitRange,Vararg{Any,N} where N}} where A<:DenseArray where N where T, DenseArray}, SubArray{T,2,A,I,L} where L where I<:Tuple{Vararg{Union{Int64, AbstractRange{Int64}, Base.AbstractCartesianIndex},N} where N} where A<:Union{Base.ReinterpretArray{T,N,S,A} where S where A<:Union{SubArray{T,N,A,I,true} where I<:Union{Tuple{Vararg{Real,N} where N}, Tuple{AbstractUnitRange,Vararg{Any,N} where N}} where A<:DenseArray where N where T, DenseArray} where N where T, Base.ReshapedArray{T,N,A,MI} where MI<:Tuple{Vararg{Base.MultiplicativeInverses.SignedMultiplicativeInverse{Int64},N} where N} where A<:Union{Base.ReinterpretArray{T,N,S,A} where S where A<:Union{SubArray{T,N,A,I,true} where I<:Union{Tuple{Vararg{Real,N} where N}, Tuple{AbstractUnitRange,Vararg{Any,N} where N}} where A<:DenseArray where N where T, DenseArray} where N where T, SubArray{T,N,A,I,true} where I<:Union{Tuple{Vararg{Real,N} where N}, Tuple{AbstractUnitRange,Vararg{Any,N} where N}} where A<:DenseArray where N where T, DenseArray} where N where T, DenseArray}} where #s662, ::Union{DenseArray{S,1}, Base.ReinterpretArray{S,1,S1,A} where S1 where A<:Union{SubArray{T,N,A,I,true} where I<:Union{Tuple{Vararg{Real,N} where N}, Tuple{AbstractUnitRange,Vararg{Any,N} where N}} where A<:DenseArray where N where T, DenseArray}, Base.ReshapedArray{S,1,A,MI} where MI<:Tuple{Vararg{Base.MultiplicativeInverses.SignedMultiplicativeInverse{Int64},N} where N} where A<:Union{Base.ReinterpretArray{T,N,S,A} where S where A<:Union{SubArray{T,N,A,I,true} where I<:Union{Tuple{Vararg{Real,N} where N}, Tuple{AbstractUnitRange,Vararg{Any,N} where N}} where A<:DenseArray where N where T, DenseArray} where N where T, SubArray{T,N,A,I,true} where I<:Union{Tuple{Vararg{Real,N} where N}, Tuple{AbstractUnitRange,Vararg{Any,N} where N}} where A<:DenseArray where N where T, DenseArray}, SubArray{S,1,A,I,L} where L where I<:Tuple{Vararg{Union{Int64, AbstractRange{Int64}, Base.AbstractCartesianIndex},N} where N} where A<:Union{Base.ReinterpretArray{T,N,S,A} where S where A<:Union{SubArray{T,N,A,I,true} where I<:Union{Tuple{Vararg{Real,N} where N}, Tuple{AbstractUnitRange,Vararg{Any,N} where N}} where A<:DenseArray where N where T, DenseArray} where N where T, Base.ReshapedArray{T,N,A,MI} where MI<:Tuple{Vararg{Base.MultiplicativeInverses.SignedMultiplicativeInverse{Int64},N} where N} where A<:Union{Base.ReinterpretArray{T,N,S,A} where S where A<:Union{SubArray{T,N,A,I,true} where I<:Union{Tuple{Vararg{Real,N} where N}, Tuple{AbstractUnitRange,Vararg{Any,N} where N}} where A<:DenseArray where N where T, DenseArray} where N where T, SubArray{T,N,A,I,true} where I<:Union{Tuple{Vararg{Real,N} where N}, Tuple{AbstractUnitRange,Vararg{Any,N} where N}} where A<:DenseArray where N where T, DenseArray} where N where T, DenseArray}}) where {T<:Union{Complex{Float32}, Complex{Float64}, Float32, Float64}, S} at /buildworker/worker/package_linux64/build/usr/share/julia/stdlib/v1.4/LinearAlgebra/src/matmul.jl:106\n  ...",
     "output_type": "error",
     "traceback": [
      "MethodError: no method matching *(::Tuple{Array{Float64,1},Array{Float64,2}}, ::Array{Float32,1})\nClosest candidates are:\n  *(::Any, ::Any, !Matched::Any, !Matched::Any...) at operators.jl:529\n  *(!Matched::PyObject, ::Any) at /home/sgillen/.julia/packages/PyCall/zqDXB/src/pyoperators.jl:13\n  *(!Matched::LinearAlgebra.Adjoint{#s662,#s661} where #s661<:Union{DenseArray{T,2}, Base.ReinterpretArray{T,2,S,A} where S where A<:Union{SubArray{T,N,A,I,true} where I<:Union{Tuple{Vararg{Real,N} where N}, Tuple{AbstractUnitRange,Vararg{Any,N} where N}} where A<:DenseArray where N where T, DenseArray}, Base.ReshapedArray{T,2,A,MI} where MI<:Tuple{Vararg{Base.MultiplicativeInverses.SignedMultiplicativeInverse{Int64},N} where N} where A<:Union{Base.ReinterpretArray{T,N,S,A} where S where A<:Union{SubArray{T,N,A,I,true} where I<:Union{Tuple{Vararg{Real,N} where N}, Tuple{AbstractUnitRange,Vararg{Any,N} where N}} where A<:DenseArray where N where T, DenseArray} where N where T, SubArray{T,N,A,I,true} where I<:Union{Tuple{Vararg{Real,N} where N}, Tuple{AbstractUnitRange,Vararg{Any,N} where N}} where A<:DenseArray where N where T, DenseArray}, SubArray{T,2,A,I,L} where L where I<:Tuple{Vararg{Union{Int64, AbstractRange{Int64}, Base.AbstractCartesianIndex},N} where N} where A<:Union{Base.ReinterpretArray{T,N,S,A} where S where A<:Union{SubArray{T,N,A,I,true} where I<:Union{Tuple{Vararg{Real,N} where N}, Tuple{AbstractUnitRange,Vararg{Any,N} where N}} where A<:DenseArray where N where T, DenseArray} where N where T, Base.ReshapedArray{T,N,A,MI} where MI<:Tuple{Vararg{Base.MultiplicativeInverses.SignedMultiplicativeInverse{Int64},N} where N} where A<:Union{Base.ReinterpretArray{T,N,S,A} where S where A<:Union{SubArray{T,N,A,I,true} where I<:Union{Tuple{Vararg{Real,N} where N}, Tuple{AbstractUnitRange,Vararg{Any,N} where N}} where A<:DenseArray where N where T, DenseArray} where N where T, SubArray{T,N,A,I,true} where I<:Union{Tuple{Vararg{Real,N} where N}, Tuple{AbstractUnitRange,Vararg{Any,N} where N}} where A<:DenseArray where N where T, DenseArray} where N where T, DenseArray}} where #s662, ::Union{DenseArray{S,1}, Base.ReinterpretArray{S,1,S1,A} where S1 where A<:Union{SubArray{T,N,A,I,true} where I<:Union{Tuple{Vararg{Real,N} where N}, Tuple{AbstractUnitRange,Vararg{Any,N} where N}} where A<:DenseArray where N where T, DenseArray}, Base.ReshapedArray{S,1,A,MI} where MI<:Tuple{Vararg{Base.MultiplicativeInverses.SignedMultiplicativeInverse{Int64},N} where N} where A<:Union{Base.ReinterpretArray{T,N,S,A} where S where A<:Union{SubArray{T,N,A,I,true} where I<:Union{Tuple{Vararg{Real,N} where N}, Tuple{AbstractUnitRange,Vararg{Any,N} where N}} where A<:DenseArray where N where T, DenseArray} where N where T, SubArray{T,N,A,I,true} where I<:Union{Tuple{Vararg{Real,N} where N}, Tuple{AbstractUnitRange,Vararg{Any,N} where N}} where A<:DenseArray where N where T, DenseArray}, SubArray{S,1,A,I,L} where L where I<:Tuple{Vararg{Union{Int64, AbstractRange{Int64}, Base.AbstractCartesianIndex},N} where N} where A<:Union{Base.ReinterpretArray{T,N,S,A} where S where A<:Union{SubArray{T,N,A,I,true} where I<:Union{Tuple{Vararg{Real,N} where N}, Tuple{AbstractUnitRange,Vararg{Any,N} where N}} where A<:DenseArray where N where T, DenseArray} where N where T, Base.ReshapedArray{T,N,A,MI} where MI<:Tuple{Vararg{Base.MultiplicativeInverses.SignedMultiplicativeInverse{Int64},N} where N} where A<:Union{Base.ReinterpretArray{T,N,S,A} where S where A<:Union{SubArray{T,N,A,I,true} where I<:Union{Tuple{Vararg{Real,N} where N}, Tuple{AbstractUnitRange,Vararg{Any,N} where N}} where A<:DenseArray where N where T, DenseArray} where N where T, SubArray{T,N,A,I,true} where I<:Union{Tuple{Vararg{Real,N} where N}, Tuple{AbstractUnitRange,Vararg{Any,N} where N}} where A<:DenseArray where N where T, DenseArray} where N where T, DenseArray}}) where {T<:Union{Complex{Float32}, Complex{Float64}, Float32, Float64}, S} at /buildworker/worker/package_linux64/build/usr/share/julia/stdlib/v1.4/LinearAlgebra/src/matmul.jl:106\n  ...",
      "",
      "Stacktrace:",
      " [1] do_rollout_eval(::PyObject, ::Tuple{Array{Float64,1},Array{Float64,2}}) at ./In[8]:14",
      " [2] top-level scope at In[9]:1"
     ]
    }
   ],
   "source": [
    "r,x = do_rollout_eval(env,W)"
   ]
  },
  {
   "cell_type": "code",
   "execution_count": 15,
   "metadata": {},
   "outputs": [
    {
     "data": {
      "text/plain": [
       "f (generic function with 1 method)"
      ]
     },
     "execution_count": 15,
     "metadata": {},
     "output_type": "execute_result"
    }
   ],
   "source": [
    "function f(arr, T)\n",
    "    a = Array{T,5}\n",
    "    for i in  1:5\n",
    "        a[1] = sum(arr)\n",
    "    end\n",
    "\n",
    "    return a\n",
    "\n",
    "end"
   ]
  },
  {
   "cell_type": "code",
   "execution_count": 17,
   "metadata": {},
   "outputs": [
    {
     "name": "stdout",
     "output_type": "stream",
     "text": [
      "\n",
      ";  @ In[15]:2 within `f'\n",
      "; Function Attrs: noreturn\n",
      "define nonnull %jl_value_t addrspace(10)* @japi1_f_18209(%jl_value_t addrspace(10)*, %jl_value_t addrspace(10)**, i32) #0 {\n",
      "top:\n",
      "  %3 = alloca %jl_value_t addrspace(10)*, i32 3\n",
      "  %gcframe = alloca %jl_value_t addrspace(10)*, i32 3, align 16\n",
      "  %4 = bitcast %jl_value_t addrspace(10)** %gcframe to i8*\n",
      "  call void @llvm.memset.p0i8.i32(i8* align 16 %4, i8 0, i32 24, i1 false)\n",
      "  %5 = alloca %jl_value_t addrspace(10)**, align 8\n",
      "  store volatile %jl_value_t addrspace(10)** %1, %jl_value_t addrspace(10)*** %5, align 8\n",
      "  %thread_ptr = call i8* asm \"movq %fs:0, $0\", \"=r\"()\n",
      "  %ptls_i8 = getelementptr i8, i8* %thread_ptr, i64 -15712\n",
      "  %ptls = bitcast i8* %ptls_i8 to %jl_value_t***\n",
      "  %6 = getelementptr %jl_value_t addrspace(10)*, %jl_value_t addrspace(10)** %gcframe, i32 0\n",
      "  %7 = bitcast %jl_value_t addrspace(10)** %6 to i64*\n",
      "  store i64 4, i64* %7\n",
      "  %8 = getelementptr %jl_value_t**, %jl_value_t*** %ptls, i32 0\n",
      "  %9 = getelementptr %jl_value_t addrspace(10)*, %jl_value_t addrspace(10)** %gcframe, i32 1\n",
      "  %10 = bitcast %jl_value_t addrspace(10)** %9 to %jl_value_t***\n",
      "  %11 = load %jl_value_t**, %jl_value_t*** %8\n",
      "  store %jl_value_t** %11, %jl_value_t*** %10\n",
      "  %12 = bitcast %jl_value_t*** %8 to %jl_value_t addrspace(10)***\n",
      "  store %jl_value_t addrspace(10)** %gcframe, %jl_value_t addrspace(10)*** %12\n",
      "  %13 = load %jl_value_t addrspace(10)*, %jl_value_t addrspace(10)** %1, align 8\n",
      ";  @ In[15]:4 within `f'\n",
      "; ┌ @ reducedim.jl:652 within `sum'\n",
      "; │┌ @ reducedim.jl:652 within `#sum#583'\n",
      "; ││┌ @ reducedim.jl:656 within `_sum' @ reducedim.jl:657\n",
      "; │││┌ @ reducedim.jl:307 within `mapreduce'\n",
      "; ││││┌ @ reducedim.jl:307 within `#mapreduce#580'\n",
      "; │││││┌ @ reducedim.jl:312 within `_mapreduce_dim'\n",
      "        %14 = call double @julia__mapreduce_18203(%jl_value_t addrspace(10)* nonnull %13)\n",
      "; └└└└└└\n",
      "  %15 = bitcast %jl_value_t*** %ptls to i8*\n",
      "  %16 = call noalias nonnull %jl_value_t addrspace(10)* @jl_gc_pool_alloc(i8* %15, i32 1400, i32 16) #1\n",
      "  %17 = bitcast %jl_value_t addrspace(10)* %16 to %jl_value_t addrspace(10)* addrspace(10)*\n",
      "  %18 = getelementptr %jl_value_t addrspace(10)*, %jl_value_t addrspace(10)* addrspace(10)* %17, i64 -1\n",
      "  store %jl_value_t addrspace(10)* addrspacecast (%jl_value_t* inttoptr (i64 140488894656064 to %jl_value_t*) to %jl_value_t addrspace(10)*), %jl_value_t addrspace(10)* addrspace(10)* %18\n",
      "  %19 = bitcast %jl_value_t addrspace(10)* %16 to double addrspace(10)*\n",
      "  store double %14, double addrspace(10)* %19, align 8\n",
      "  %20 = getelementptr %jl_value_t addrspace(10)*, %jl_value_t addrspace(10)** %gcframe, i32 2\n",
      "  store %jl_value_t addrspace(10)* %16, %jl_value_t addrspace(10)** %20\n",
      "  %21 = getelementptr %jl_value_t addrspace(10)*, %jl_value_t addrspace(10)** %3, i32 0\n",
      "  store %jl_value_t addrspace(10)* addrspacecast (%jl_value_t* inttoptr (i64 140488321179200 to %jl_value_t*) to %jl_value_t addrspace(10)*), %jl_value_t addrspace(10)** %21\n",
      "  %22 = getelementptr %jl_value_t addrspace(10)*, %jl_value_t addrspace(10)** %3, i32 1\n",
      "  store %jl_value_t addrspace(10)* %16, %jl_value_t addrspace(10)** %22\n",
      "  %23 = getelementptr %jl_value_t addrspace(10)*, %jl_value_t addrspace(10)** %3, i32 2\n",
      "  store %jl_value_t addrspace(10)* addrspacecast (%jl_value_t* inttoptr (i64 140488800981088 to %jl_value_t*) to %jl_value_t addrspace(10)*), %jl_value_t addrspace(10)** %23\n",
      "  %24 = call nonnull %jl_value_t addrspace(10)* @jl_apply_generic(%jl_value_t addrspace(10)* addrspacecast (%jl_value_t* inttoptr (i64 140488943213520 to %jl_value_t*) to %jl_value_t addrspace(10)*), %jl_value_t addrspace(10)** %3, i32 3)\n",
      "  call void @llvm.trap()\n",
      "  unreachable\n",
      "}\n"
     ]
    }
   ],
   "source": [
    "@code_llvm f(zeros(4,4), Float32)"
   ]
  },
  {
   "cell_type": "code",
   "execution_count": null,
   "metadata": {},
   "outputs": [],
   "source": []
  }
 ],
 "metadata": {
  "kernelspec": {
   "display_name": "Julia 1.4.2",
   "language": "julia",
   "name": "julia-1.4"
  },
  "language_info": {
   "file_extension": ".jl",
   "mimetype": "application/julia",
   "name": "julia",
   "version": "1.4.2"
  }
 },
 "nbformat": 4,
 "nbformat_minor": 4
}
