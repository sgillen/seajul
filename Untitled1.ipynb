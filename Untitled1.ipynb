{
 "cells": [
  {
   "cell_type": "code",
   "execution_count": 7,
   "metadata": {},
   "outputs": [
    {
     "name": "stderr",
     "output_type": "stream",
     "text": [
      "WARNING: replacing module SJ.\n"
     ]
    },
    {
     "data": {
      "text/plain": [
       "PyObject <TimeLimit<Walker2DBulletEnv<Walker2DBulletEnv-v0>>>"
      ]
     },
     "execution_count": 7,
     "metadata": {},
     "output_type": "execute_result"
    }
   ],
   "source": [
    "include(\"seajul.jl\")\n",
    "\n",
    "import .SJ\n",
    "using Revise\n",
    "using PyCall\n",
    "\n",
    "gym = pyimport(\"gym\")\n",
    "pyimport(\"pybullet_envs\")\n",
    "env = gym.make(\"Walker2DBulletEnv-v0\")"
   ]
  },
  {
   "cell_type": "code",
   "execution_count": 8,
   "metadata": {},
   "outputs": [
    {
     "ename": "CompositeException",
     "evalue": "TaskFailedException:\nMethodError: Cannot `convert` an object of type Tuple{Float64,Array{Float64,1},Array{Float64,1}} to an object of type Float64\nClosest candidates are:\n  convert(::Type{T}, !Matched::T) where T<:Number at number.jl:6\n  convert(::Type{T}, !Matched::Number) where T<:Number at number.jl:7\n  convert(::Type{T}, !Matched::Base.TwicePrecision) where T<:Number at twiceprecision.jl:250\n  ...\nsetindex!(::Array{Float64,1}, ::Tuple{Float64,Array{Float64,1},Array{Float64,1}}, ::Int64) at ./array.jl:826\nsetindex!(::SharedArrays.SharedArray{Float64,1}, ::Tuple{Float64,Array{Float64,1},Array{Float64,1}}, ::Int64) at /buildworker/worker/package_linux64/build/usr/share/julia/stdlib/v1.4/SharedArrays/src/SharedArrays.jl:510\nmacro expansion at /home/sgillen/work/seajul/seajul.jl:140 [inlined]\n(::Main.SJ.var\"#4#7\"{Float64,PyObject,SharedArrays.SharedArray{Float64,3},SharedArrays.SharedArray{Float64,1},SharedArrays.SharedArray{Float64,1}})(::UnitRange{Int64}, ::Int64, ::Int64) at /buildworker/worker/package_linux64/build/usr/share/julia/stdlib/v1.4/Distributed/src/macros.jl:302\n#158 at /buildworker/worker/package_linux64/build/usr/share/julia/stdlib/v1.4/Distributed/src/macros.jl:87 [inlined]\nrun_work_thunk(::Distributed.var\"#158#160\"{UnitRange{Int64},Main.SJ.var\"#4#7\"{Float64,PyObject,SharedArrays.SharedArray{Float64,3},SharedArrays.SharedArray{Float64,1},SharedArrays.SharedArray{Float64,1}},UnitRange{Int64}}, ::Bool) at /buildworker/worker/package_linux64/build/usr/share/julia/stdlib/v1.4/Distributed/src/process_messages.jl:79\nrun_work_thunk at /buildworker/worker/package_linux64/build/usr/share/julia/stdlib/v1.4/Distributed/src/process_messages.jl:88 [inlined]\n(::Distributed.var\"#94#96\"{Distributed.RemoteValue,Distributed.var\"#158#160\"{UnitRange{Int64},Main.SJ.var\"#4#7\"{Float64,PyObject,SharedArrays.SharedArray{Float64,3},SharedArrays.SharedArray{Float64,1},SharedArrays.SharedArray{Float64,1}},UnitRange{Int64}}})() at ./task.jl:358\nStacktrace:\n [1] sync_end(::Array{Any,1}) at ./task.jl:316\n [2] (::Distributed.var\"#157#159\"{Main.SJ.var\"#4#7\"{Float64,PyObject,SharedArrays.SharedArray{Float64,3},SharedArrays.SharedArray{Float64,1},SharedArrays.SharedArray{Float64,1}},UnitRange{Int64}})() at ./task.jl:335",
     "output_type": "error",
     "traceback": [
      "TaskFailedException:\nMethodError: Cannot `convert` an object of type Tuple{Float64,Array{Float64,1},Array{Float64,1}} to an object of type Float64\nClosest candidates are:\n  convert(::Type{T}, !Matched::T) where T<:Number at number.jl:6\n  convert(::Type{T}, !Matched::Number) where T<:Number at number.jl:7\n  convert(::Type{T}, !Matched::Base.TwicePrecision) where T<:Number at twiceprecision.jl:250\n  ...\nsetindex!(::Array{Float64,1}, ::Tuple{Float64,Array{Float64,1},Array{Float64,1}}, ::Int64) at ./array.jl:826\nsetindex!(::SharedArrays.SharedArray{Float64,1}, ::Tuple{Float64,Array{Float64,1},Array{Float64,1}}, ::Int64) at /buildworker/worker/package_linux64/build/usr/share/julia/stdlib/v1.4/SharedArrays/src/SharedArrays.jl:510\nmacro expansion at /home/sgillen/work/seajul/seajul.jl:140 [inlined]\n(::Main.SJ.var\"#4#7\"{Float64,PyObject,SharedArrays.SharedArray{Float64,3},SharedArrays.SharedArray{Float64,1},SharedArrays.SharedArray{Float64,1}})(::UnitRange{Int64}, ::Int64, ::Int64) at /buildworker/worker/package_linux64/build/usr/share/julia/stdlib/v1.4/Distributed/src/macros.jl:302\n#158 at /buildworker/worker/package_linux64/build/usr/share/julia/stdlib/v1.4/Distributed/src/macros.jl:87 [inlined]\nrun_work_thunk(::Distributed.var\"#158#160\"{UnitRange{Int64},Main.SJ.var\"#4#7\"{Float64,PyObject,SharedArrays.SharedArray{Float64,3},SharedArrays.SharedArray{Float64,1},SharedArrays.SharedArray{Float64,1}},UnitRange{Int64}}, ::Bool) at /buildworker/worker/package_linux64/build/usr/share/julia/stdlib/v1.4/Distributed/src/process_messages.jl:79\nrun_work_thunk at /buildworker/worker/package_linux64/build/usr/share/julia/stdlib/v1.4/Distributed/src/process_messages.jl:88 [inlined]\n(::Distributed.var\"#94#96\"{Distributed.RemoteValue,Distributed.var\"#158#160\"{UnitRange{Int64},Main.SJ.var\"#4#7\"{Float64,PyObject,SharedArrays.SharedArray{Float64,3},SharedArrays.SharedArray{Float64,1},SharedArrays.SharedArray{Float64,1}},UnitRange{Int64}}})() at ./task.jl:358\nStacktrace:\n [1] sync_end(::Array{Any,1}) at ./task.jl:316\n [2] (::Distributed.var\"#157#159\"{Main.SJ.var\"#4#7\"{Float64,PyObject,SharedArrays.SharedArray{Float64,3},SharedArrays.SharedArray{Float64,1},SharedArrays.SharedArray{Float64,1}},UnitRange{Int64}})() at ./task.jl:335",
      "",
      "Stacktrace:",
      " [1] sync_end(::Array{Any,1}) at ./task.jl:316",
      " [2] macro expansion at ./task.jl:335 [inlined]",
      " [3] ars_v1t!(::PyObject, ::Array{Float64,2}; α::Float64, N::Int64, b::Int64, σ::Float64, num_epochs::Int64) at /home/sgillen/work/seajul/seajul.jl:138",
      " [4] ars_v1t!(::PyObject, ::Array{Float64,2}) at /home/sgillen/work/seajul/seajul.jl:131",
      " [5] top-level scope at In[8]:1"
     ]
    }
   ],
   "source": [
    "W = SJ.ars_v1t!(env, zeros(6,22))"
   ]
  },
  {
   "cell_type": "code",
   "execution_count": null,
   "metadata": {},
   "outputs": [],
   "source": []
  }
 ],
 "metadata": {
  "kernelspec": {
   "display_name": "Julia 1.4.2",
   "language": "julia",
   "name": "julia-1.4"
  },
  "language_info": {
   "file_extension": ".jl",
   "mimetype": "application/julia",
   "name": "julia",
   "version": "1.4.2"
  }
 },
 "nbformat": 4,
 "nbformat_minor": 4
}
